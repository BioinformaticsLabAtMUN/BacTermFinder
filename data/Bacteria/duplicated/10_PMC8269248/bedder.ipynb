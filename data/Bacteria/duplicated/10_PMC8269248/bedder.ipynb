{
 "cells": [
  {
   "cell_type": "code",
   "execution_count": 30,
   "metadata": {},
   "outputs": [],
   "source": [
    "import pandas as pd"
   ]
  },
  {
   "cell_type": "code",
   "execution_count": 31,
   "metadata": {},
   "outputs": [
    {
     "data": {
      "text/html": [
       "<div>\n",
       "<style scoped>\n",
       "    .dataframe tbody tr th:only-of-type {\n",
       "        vertical-align: middle;\n",
       "    }\n",
       "\n",
       "    .dataframe tbody tr th {\n",
       "        vertical-align: top;\n",
       "    }\n",
       "\n",
       "    .dataframe thead th {\n",
       "        text-align: right;\n",
       "    }\n",
       "</style>\n",
       "<table border=\"1\" class=\"dataframe\">\n",
       "  <thead>\n",
       "    <tr style=\"text-align: right;\">\n",
       "      <th></th>\n",
       "      <th>0</th>\n",
       "      <th>1</th>\n",
       "      <th>2</th>\n",
       "      <th>3</th>\n",
       "      <th>4</th>\n",
       "      <th>5</th>\n",
       "      <th>6</th>\n",
       "      <th>7</th>\n",
       "      <th>8</th>\n",
       "    </tr>\n",
       "  </thead>\n",
       "  <tbody>\n",
       "    <tr>\n",
       "      <th>0</th>\n",
       "      <td>CP027858</td>\n",
       "      <td>Scla_TEP</td>\n",
       "      <td>Scla_TEP_fwd</td>\n",
       "      <td>13489</td>\n",
       "      <td>13489</td>\n",
       "      <td>3.324022</td>\n",
       "      <td>+</td>\n",
       "      <td>.</td>\n",
       "      <td>13489 N N</td>\n",
       "    </tr>\n",
       "    <tr>\n",
       "      <th>1</th>\n",
       "      <td>CP027858</td>\n",
       "      <td>Scla_TEP</td>\n",
       "      <td>Scla_TEP_rev</td>\n",
       "      <td>93378</td>\n",
       "      <td>93378</td>\n",
       "      <td>-20.503420</td>\n",
       "      <td>-</td>\n",
       "      <td>.</td>\n",
       "      <td>93378 CRV15_00395 Pre</td>\n",
       "    </tr>\n",
       "    <tr>\n",
       "      <th>2</th>\n",
       "      <td>CP027858</td>\n",
       "      <td>Scla_TEP</td>\n",
       "      <td>Scla_TEP_fwd</td>\n",
       "      <td>164324</td>\n",
       "      <td>164324</td>\n",
       "      <td>12.537046</td>\n",
       "      <td>+</td>\n",
       "      <td>.</td>\n",
       "      <td>164324 N N</td>\n",
       "    </tr>\n",
       "    <tr>\n",
       "      <th>3</th>\n",
       "      <td>CP027858</td>\n",
       "      <td>Scla_TEP</td>\n",
       "      <td>Scla_TEP_fwd</td>\n",
       "      <td>170101</td>\n",
       "      <td>170101</td>\n",
       "      <td>22.302253</td>\n",
       "      <td>+</td>\n",
       "      <td>.</td>\n",
       "      <td>170101 N N</td>\n",
       "    </tr>\n",
       "    <tr>\n",
       "      <th>4</th>\n",
       "      <td>CP027858</td>\n",
       "      <td>Scla_TEP</td>\n",
       "      <td>Scla_TEP_fwd</td>\n",
       "      <td>204482</td>\n",
       "      <td>204482</td>\n",
       "      <td>4.826782</td>\n",
       "      <td>+</td>\n",
       "      <td>.</td>\n",
       "      <td>204482 N N</td>\n",
       "    </tr>\n",
       "    <tr>\n",
       "      <th>...</th>\n",
       "      <td>...</td>\n",
       "      <td>...</td>\n",
       "      <td>...</td>\n",
       "      <td>...</td>\n",
       "      <td>...</td>\n",
       "      <td>...</td>\n",
       "      <td>...</td>\n",
       "      <td>...</td>\n",
       "      <td>...</td>\n",
       "    </tr>\n",
       "    <tr>\n",
       "      <th>1422</th>\n",
       "      <td>CP027859</td>\n",
       "      <td>Scla_TEP</td>\n",
       "      <td>Scla_TEP_rev</td>\n",
       "      <td>1654110</td>\n",
       "      <td>1654110</td>\n",
       "      <td>-4.081420</td>\n",
       "      <td>-</td>\n",
       "      <td>.</td>\n",
       "      <td>1654110 CRV15_35125 P</td>\n",
       "    </tr>\n",
       "    <tr>\n",
       "      <th>1423</th>\n",
       "      <td>CP027859</td>\n",
       "      <td>Scla_TEP</td>\n",
       "      <td>Scla_TEP_fwd</td>\n",
       "      <td>1664896</td>\n",
       "      <td>1664896</td>\n",
       "      <td>6.678687</td>\n",
       "      <td>+</td>\n",
       "      <td>.</td>\n",
       "      <td>1664896 CRV15_35185 P</td>\n",
       "    </tr>\n",
       "    <tr>\n",
       "      <th>1424</th>\n",
       "      <td>CP027859</td>\n",
       "      <td>Scla_TEP</td>\n",
       "      <td>Scla_TEP_fwd</td>\n",
       "      <td>1697684</td>\n",
       "      <td>1697684</td>\n",
       "      <td>0.742076</td>\n",
       "      <td>+</td>\n",
       "      <td>.</td>\n",
       "      <td>1697684 CRV15_35300 P</td>\n",
       "    </tr>\n",
       "    <tr>\n",
       "      <th>1425</th>\n",
       "      <td>CP027859</td>\n",
       "      <td>Scla_TEP</td>\n",
       "      <td>Scla_TEP_rev</td>\n",
       "      <td>1701592</td>\n",
       "      <td>1701592</td>\n",
       "      <td>-1.607832</td>\n",
       "      <td>-</td>\n",
       "      <td>.</td>\n",
       "      <td>1701592 CRV15_35325 P</td>\n",
       "    </tr>\n",
       "    <tr>\n",
       "      <th>1426</th>\n",
       "      <td>CP027859</td>\n",
       "      <td>Scla_TEP</td>\n",
       "      <td>Scla_TEP_rev</td>\n",
       "      <td>1726491</td>\n",
       "      <td>1726491</td>\n",
       "      <td>-5.689252</td>\n",
       "      <td>-</td>\n",
       "      <td>.</td>\n",
       "      <td>1726491 CRV15_35465 P</td>\n",
       "    </tr>\n",
       "  </tbody>\n",
       "</table>\n",
       "<p>1427 rows × 9 columns</p>\n",
       "</div>"
      ],
      "text/plain": [
       "             0         1             2        3        4          5  6  7  \\\n",
       "0     CP027858  Scla_TEP  Scla_TEP_fwd    13489    13489   3.324022  +  .   \n",
       "1     CP027858  Scla_TEP  Scla_TEP_rev    93378    93378 -20.503420  -  .   \n",
       "2     CP027858  Scla_TEP  Scla_TEP_fwd   164324   164324  12.537046  +  .   \n",
       "3     CP027858  Scla_TEP  Scla_TEP_fwd   170101   170101  22.302253  +  .   \n",
       "4     CP027858  Scla_TEP  Scla_TEP_fwd   204482   204482   4.826782  +  .   \n",
       "...        ...       ...           ...      ...      ...        ... .. ..   \n",
       "1422  CP027859  Scla_TEP  Scla_TEP_rev  1654110  1654110  -4.081420  -  .   \n",
       "1423  CP027859  Scla_TEP  Scla_TEP_fwd  1664896  1664896   6.678687  +  .   \n",
       "1424  CP027859  Scla_TEP  Scla_TEP_fwd  1697684  1697684   0.742076  +  .   \n",
       "1425  CP027859  Scla_TEP  Scla_TEP_rev  1701592  1701592  -1.607832  -  .   \n",
       "1426  CP027859  Scla_TEP  Scla_TEP_rev  1726491  1726491  -5.689252  -  .   \n",
       "\n",
       "                          8  \n",
       "0                 13489 N N  \n",
       "1     93378 CRV15_00395 Pre  \n",
       "2                164324 N N  \n",
       "3                170101 N N  \n",
       "4                204482 N N  \n",
       "...                     ...  \n",
       "1422  1654110 CRV15_35125 P  \n",
       "1423  1664896 CRV15_35185 P  \n",
       "1424  1697684 CRV15_35300 P  \n",
       "1425  1701592 CRV15_35325 P  \n",
       "1426  1726491 CRV15_35465 P  \n",
       "\n",
       "[1427 rows x 9 columns]"
      ]
     },
     "execution_count": 31,
     "metadata": {},
     "output_type": "execute_result"
    }
   ],
   "source": [
    "df = pd.read_csv(\"GSE138325_Scla_TEP.gff\", header=None, sep=\"\\t\")\n",
    "df"
   ]
  },
  {
   "cell_type": "code",
   "execution_count": 32,
   "metadata": {},
   "outputs": [],
   "source": [
    "df.drop([7, ], axis=1, inplace=True)\n"
   ]
  },
  {
   "cell_type": "code",
   "execution_count": 33,
   "metadata": {},
   "outputs": [],
   "source": [
    "df.drop([2, 1], axis=1, inplace=True)\n"
   ]
  },
  {
   "cell_type": "code",
   "execution_count": 34,
   "metadata": {},
   "outputs": [],
   "source": [
    "df.drop([3, ], axis=1, inplace=True)"
   ]
  },
  {
   "cell_type": "code",
   "execution_count": 35,
   "metadata": {},
   "outputs": [],
   "source": [
    "\n",
    "df['kind'] = pd.DataFrame(df [8].str.split(\" \").tolist())[2]"
   ]
  },
  {
   "cell_type": "code",
   "execution_count": 36,
   "metadata": {},
   "outputs": [
    {
     "data": {
      "text/plain": [
       "P      928\n",
       "S      223\n",
       "Pre    117\n",
       "N      106\n",
       "A       53\n",
       "Name: kind, dtype: int64"
      ]
     },
     "execution_count": 36,
     "metadata": {},
     "output_type": "execute_result"
    }
   ],
   "source": [
    "df.kind.value_counts()"
   ]
  },
  {
   "cell_type": "code",
   "execution_count": 28,
   "metadata": {},
   "outputs": [
    {
     "data": {
      "text/plain": [
       "1151"
      ]
     },
     "execution_count": 28,
     "metadata": {},
     "output_type": "execute_result"
    }
   ],
   "source": [
    "928+223\n"
   ]
  },
  {
   "cell_type": "code",
   "execution_count": 37,
   "metadata": {},
   "outputs": [
    {
     "data": {
      "text/html": [
       "<div>\n",
       "<style scoped>\n",
       "    .dataframe tbody tr th:only-of-type {\n",
       "        vertical-align: middle;\n",
       "    }\n",
       "\n",
       "    .dataframe tbody tr th {\n",
       "        vertical-align: top;\n",
       "    }\n",
       "\n",
       "    .dataframe thead th {\n",
       "        text-align: right;\n",
       "    }\n",
       "</style>\n",
       "<table border=\"1\" class=\"dataframe\">\n",
       "  <thead>\n",
       "    <tr style=\"text-align: right;\">\n",
       "      <th></th>\n",
       "      <th>0</th>\n",
       "      <th>4</th>\n",
       "      <th>5</th>\n",
       "      <th>6</th>\n",
       "      <th>8</th>\n",
       "      <th>kind</th>\n",
       "    </tr>\n",
       "  </thead>\n",
       "  <tbody>\n",
       "    <tr>\n",
       "      <th>276</th>\n",
       "      <td>CP027858</td>\n",
       "      <td>324</td>\n",
       "      <td>-5.357071</td>\n",
       "      <td>-</td>\n",
       "      <td>324 CRV15_00010 P</td>\n",
       "      <td>P</td>\n",
       "    </tr>\n",
       "    <tr>\n",
       "      <th>277</th>\n",
       "      <td>CP027858</td>\n",
       "      <td>12796</td>\n",
       "      <td>-3.730632</td>\n",
       "      <td>-</td>\n",
       "      <td>12796 CRV15_00060 P</td>\n",
       "      <td>P</td>\n",
       "    </tr>\n",
       "    <tr>\n",
       "      <th>278</th>\n",
       "      <td>CP027858</td>\n",
       "      <td>13482</td>\n",
       "      <td>-1.573903</td>\n",
       "      <td>-</td>\n",
       "      <td>13482 CRV15_00065 P</td>\n",
       "      <td>P</td>\n",
       "    </tr>\n",
       "    <tr>\n",
       "      <th>279</th>\n",
       "      <td>CP027858</td>\n",
       "      <td>25027</td>\n",
       "      <td>-2.227872</td>\n",
       "      <td>-</td>\n",
       "      <td>25027 CRV15_00120 P</td>\n",
       "      <td>P</td>\n",
       "    </tr>\n",
       "    <tr>\n",
       "      <th>280</th>\n",
       "      <td>CP027858</td>\n",
       "      <td>38398</td>\n",
       "      <td>-3.518844</td>\n",
       "      <td>-</td>\n",
       "      <td>38398 CRV15_00180 S</td>\n",
       "      <td>S</td>\n",
       "    </tr>\n",
       "    <tr>\n",
       "      <th>...</th>\n",
       "      <td>...</td>\n",
       "      <td>...</td>\n",
       "      <td>...</td>\n",
       "      <td>...</td>\n",
       "      <td>...</td>\n",
       "      <td>...</td>\n",
       "    </tr>\n",
       "    <tr>\n",
       "      <th>1422</th>\n",
       "      <td>CP027859</td>\n",
       "      <td>1654110</td>\n",
       "      <td>-4.081420</td>\n",
       "      <td>-</td>\n",
       "      <td>1654110 CRV15_35125 P</td>\n",
       "      <td>P</td>\n",
       "    </tr>\n",
       "    <tr>\n",
       "      <th>1423</th>\n",
       "      <td>CP027859</td>\n",
       "      <td>1664896</td>\n",
       "      <td>6.678687</td>\n",
       "      <td>+</td>\n",
       "      <td>1664896 CRV15_35185 P</td>\n",
       "      <td>P</td>\n",
       "    </tr>\n",
       "    <tr>\n",
       "      <th>1424</th>\n",
       "      <td>CP027859</td>\n",
       "      <td>1697684</td>\n",
       "      <td>0.742076</td>\n",
       "      <td>+</td>\n",
       "      <td>1697684 CRV15_35300 P</td>\n",
       "      <td>P</td>\n",
       "    </tr>\n",
       "    <tr>\n",
       "      <th>1425</th>\n",
       "      <td>CP027859</td>\n",
       "      <td>1701592</td>\n",
       "      <td>-1.607832</td>\n",
       "      <td>-</td>\n",
       "      <td>1701592 CRV15_35325 P</td>\n",
       "      <td>P</td>\n",
       "    </tr>\n",
       "    <tr>\n",
       "      <th>1426</th>\n",
       "      <td>CP027859</td>\n",
       "      <td>1726491</td>\n",
       "      <td>-5.689252</td>\n",
       "      <td>-</td>\n",
       "      <td>1726491 CRV15_35465 P</td>\n",
       "      <td>P</td>\n",
       "    </tr>\n",
       "  </tbody>\n",
       "</table>\n",
       "<p>1151 rows × 6 columns</p>\n",
       "</div>"
      ],
      "text/plain": [
       "             0        4         5  6                      8 kind\n",
       "276   CP027858      324 -5.357071  -      324 CRV15_00010 P    P\n",
       "277   CP027858    12796 -3.730632  -    12796 CRV15_00060 P    P\n",
       "278   CP027858    13482 -1.573903  -    13482 CRV15_00065 P    P\n",
       "279   CP027858    25027 -2.227872  -    25027 CRV15_00120 P    P\n",
       "280   CP027858    38398 -3.518844  -    38398 CRV15_00180 S    S\n",
       "...        ...      ...       ... ..                    ...  ...\n",
       "1422  CP027859  1654110 -4.081420  -  1654110 CRV15_35125 P    P\n",
       "1423  CP027859  1664896  6.678687  +  1664896 CRV15_35185 P    P\n",
       "1424  CP027859  1697684  0.742076  +  1697684 CRV15_35300 P    P\n",
       "1425  CP027859  1701592 -1.607832  -  1701592 CRV15_35325 P    P\n",
       "1426  CP027859  1726491 -5.689252  -  1726491 CRV15_35465 P    P\n",
       "\n",
       "[1151 rows x 6 columns]"
      ]
     },
     "execution_count": 37,
     "metadata": {},
     "output_type": "execute_result"
    }
   ],
   "source": [
    "df = df[(df[\"kind\"] == \"P\") | (df[\"kind\"] == \"S\")].copy()\n",
    "df"
   ]
  },
  {
   "cell_type": "code",
   "execution_count": 38,
   "metadata": {},
   "outputs": [
    {
     "name": "stdout",
     "output_type": "stream",
     "text": [
      "(1034, 6)\n",
      "(117, 6)\n"
     ]
    }
   ],
   "source": [
    "chr = df[df[0] == \"CP027858\"]\n",
    "plsmd = df[df[0] == \"CP027859\"]\n",
    "\n",
    "print(chr.shape)\n",
    "print(plsmd.shape)"
   ]
  },
  {
   "cell_type": "code",
   "execution_count": 39,
   "metadata": {},
   "outputs": [
    {
     "name": "stdout",
     "output_type": "stream",
     "text": [
      "                0      4         5  6                    8 kind\n",
      "276  CP027858.1_0    324 -5.357071  -    324 CRV15_00010 P    P\n",
      "277  CP027858.1_1  12796 -3.730632  -  12796 CRV15_00060 P    P\n",
      "278  CP027858.1_2  13482 -1.573903  -  13482 CRV15_00065 P    P\n",
      "279  CP027858.1_3  25027 -2.227872  -  25027 CRV15_00120 P    P\n",
      "280  CP027858.1_4  38398 -3.518844  -  38398 CRV15_00180 S    S\n",
      "                 0       4          5  6                     8 kind\n",
      "1310  CP027859.1_0   25123   5.812931  +   25123 CRV15_28260 P    P\n",
      "1311  CP027859.1_1   64573  -1.360473  -   64573 CRV15_28415 P    P\n",
      "1312  CP027859.1_2  111060   1.360473  +  111060 CRV15_28595 P    P\n",
      "1313  CP027859.1_3  198306   1.978870  +  198306 CRV15_29005 P    P\n",
      "1314  CP027859.1_4  202973  33.640792  +  202973 CRV15_29050 P    P\n"
     ]
    },
    {
     "name": "stderr",
     "output_type": "stream",
     "text": [
      "/tmp/ipykernel_35435/2943910465.py:1: SettingWithCopyWarning: \n",
      "A value is trying to be set on a copy of a slice from a DataFrame.\n",
      "Try using .loc[row_indexer,col_indexer] = value instead\n",
      "\n",
      "See the caveats in the documentation: https://pandas.pydata.org/pandas-docs/stable/user_guide/indexing.html#returning-a-view-versus-a-copy\n",
      "  chr[0] = [f\"CP027858.1_{i}\" for i in range(len(chr))]\n",
      "/tmp/ipykernel_35435/2943910465.py:2: SettingWithCopyWarning: \n",
      "A value is trying to be set on a copy of a slice from a DataFrame.\n",
      "Try using .loc[row_indexer,col_indexer] = value instead\n",
      "\n",
      "See the caveats in the documentation: https://pandas.pydata.org/pandas-docs/stable/user_guide/indexing.html#returning-a-view-versus-a-copy\n",
      "  plsmd[0] = [f\"CP027859.1_{i}\" for i in range(len(plsmd))]\n"
     ]
    }
   ],
   "source": [
    "chr[0] = [f\"CP027858.1_{i}\" for i in range(len(chr))]\n",
    "plsmd[0] = [f\"CP027859.1_{i}\" for i in range(len(plsmd))]\n",
    "\n",
    "print(chr.head())\n",
    "print(plsmd.head())"
   ]
  },
  {
   "cell_type": "code",
   "execution_count": 41,
   "metadata": {},
   "outputs": [],
   "source": [
    "chr.reset_index(drop=True, inplace=True)\n",
    "plsmd.reset_index(drop=True, inplace=True)"
   ]
  },
  {
   "cell_type": "code",
   "execution_count": 43,
   "metadata": {},
   "outputs": [
    {
     "name": "stdout",
     "output_type": "stream",
     "text": [
      "              0      4         5  6                    8 kind  start    end\n",
      "0  CP027858.1_0    324 -5.357071  -    324 CRV15_00010 P    P    323    324\n",
      "1  CP027858.1_1  12796 -3.730632  -  12796 CRV15_00060 P    P  12795  12796\n",
      "2  CP027858.1_2  13482 -1.573903  -  13482 CRV15_00065 P    P  13481  13482\n",
      "3  CP027858.1_3  25027 -2.227872  -  25027 CRV15_00120 P    P  25026  25027\n",
      "4  CP027858.1_4  38398 -3.518844  -  38398 CRV15_00180 S    S  38397  38398\n",
      "              0       4          5  6                     8 kind   start  \\\n",
      "0  CP027859.1_0   25123   5.812931  +   25123 CRV15_28260 P    P   25122   \n",
      "1  CP027859.1_1   64573  -1.360473  -   64573 CRV15_28415 P    P   64572   \n",
      "2  CP027859.1_2  111060   1.360473  +  111060 CRV15_28595 P    P  111059   \n",
      "3  CP027859.1_3  198306   1.978870  +  198306 CRV15_29005 P    P  198305   \n",
      "4  CP027859.1_4  202973  33.640792  +  202973 CRV15_29050 P    P  202972   \n",
      "\n",
      "      end  \n",
      "0   25123  \n",
      "1   64573  \n",
      "2  111060  \n",
      "3  198306  \n",
      "4  202973  \n"
     ]
    }
   ],
   "source": [
    "df = chr.copy()\n",
    "\n",
    "df[\"start\"] = df[4] - 1\n",
    "df[\"end\"] = df[4]\n",
    "\n",
    "chr = df.copy()\n",
    "\n",
    "df = plsmd.copy()\n",
    "\n",
    "df[\"start\"] = df[4] - 1\n",
    "df[\"end\"] = df[4]\n",
    "\n",
    "plsmd = df.copy()\n",
    "\n",
    "print(chr.head())\n",
    "print(plsmd.head())\n",
    "\n"
   ]
  },
  {
   "cell_type": "code",
   "execution_count": 44,
   "metadata": {},
   "outputs": [
    {
     "name": "stdout",
     "output_type": "stream",
     "text": [
      "0        0\n",
      "5        0\n",
      "6        0\n",
      "8        0\n",
      "start    0\n",
      "end      0\n",
      "dtype: int64\n",
      "0        0\n",
      "5        0\n",
      "6        0\n",
      "8        0\n",
      "start    0\n",
      "end      0\n",
      "dtype: int64\n"
     ]
    }
   ],
   "source": [
    "chr.drop([4, \"kind\"], axis=1, inplace=True)\n",
    "plsmd.drop([4, \"kind\"], axis=1, inplace=True)\n",
    "\n",
    "print(chr.isna().sum())\n",
    "print(plsmd.isna().sum())"
   ]
  },
  {
   "cell_type": "code",
   "execution_count": 45,
   "metadata": {},
   "outputs": [
    {
     "name": "stdout",
     "output_type": "stream",
     "text": [
      "              0  start    end                    8         5  6\n",
      "0  CP027858.1_0    323    324    324 CRV15_00010 P -5.357071  -\n",
      "1  CP027858.1_1  12795  12796  12796 CRV15_00060 P -3.730632  -\n",
      "2  CP027858.1_2  13481  13482  13482 CRV15_00065 P -1.573903  -\n",
      "3  CP027858.1_3  25026  25027  25027 CRV15_00120 P -2.227872  -\n",
      "4  CP027858.1_4  38397  38398  38398 CRV15_00180 S -3.518844  -\n",
      "              0   start     end                     8          5  6\n",
      "0  CP027859.1_0   25122   25123   25123 CRV15_28260 P   5.812931  +\n",
      "1  CP027859.1_1   64572   64573   64573 CRV15_28415 P  -1.360473  -\n",
      "2  CP027859.1_2  111059  111060  111060 CRV15_28595 P   1.360473  +\n",
      "3  CP027859.1_3  198305  198306  198306 CRV15_29005 P   1.978870  +\n",
      "4  CP027859.1_4  202972  202973  202973 CRV15_29050 P  33.640792  +\n"
     ]
    }
   ],
   "source": [
    "chr = chr[[0, \"start\", \"end\", 8, 5, 6]]\n",
    "print(chr.head())\n",
    "\n",
    "plsmd = plsmd[[0, \"start\", \"end\", 8, 5, 6]]\n",
    "print(plsmd.head())\n"
   ]
  },
  {
   "cell_type": "code",
   "execution_count": 46,
   "metadata": {},
   "outputs": [],
   "source": [
    "# convert df to bed file format\n",
    "# {FullNameOfTheBacteria}_{strainCode}_{GenomeAccessionNumber}.bed    \n",
    "\n",
    "chr.to_csv('StreptomycesClavuligerus_ATCC27064(chr)_CP027858.1.bed', sep='\\t', index=False, header=False)\n",
    "plsmd.to_csv('StreptomycesClavuligerus_ATCC27064(plsmd)_CP027859.1.bed', sep='\\t', index=False, header=False)"
   ]
  }
 ],
 "metadata": {
  "kernelspec": {
   "display_name": "Python 3.9.12 ('base')",
   "language": "python",
   "name": "python3"
  },
  "language_info": {
   "codemirror_mode": {
    "name": "ipython",
    "version": 3
   },
   "file_extension": ".py",
   "mimetype": "text/x-python",
   "name": "python",
   "nbconvert_exporter": "python",
   "pygments_lexer": "ipython3",
   "version": "3.9.7"
  },
  "orig_nbformat": 4,
  "vscode": {
   "interpreter": {
    "hash": "8e0d0260e1f3d0b9823b804dc5934a8bd3512d2d0af3147365a0766f6dd8bfcd"
   }
  }
 },
 "nbformat": 4,
 "nbformat_minor": 2
}
