{
 "cells": [
  {
   "cell_type": "code",
   "execution_count": 7,
   "metadata": {},
   "outputs": [
    {
     "name": "stdout",
     "output_type": "stream",
     "text": [
      "37_PMC3219970_SynechococcusElongatus_PCC7942_CP000100.1_100bp\n"
     ]
    }
   ],
   "source": [
    "import pandas as pd\n",
    "with open('SynechococcusElongatus_PCC7942_CP000100.1_100bp.fasta', 'r') as f:\n",
    "    dir = '37_PMC3219970'\n",
    "    file = 'SynechococcusElongatus_PCC7942_CP000100.1_100bp.fasta'\n",
    "    name = dir + \"_\" + file.replace(\".bed\", \"\").replace(\".fasta\", \"\")\n",
    "    print(name)\n",
    "    lines = f.readlines()\n",
    "    # create a dictionary with the key being the header and the value being the sequence\n",
    "    fasta_dict = {}\n",
    "    for line in lines:\n",
    "        if line.startswith(\">\"):\n",
    "            header = line.split(\">\")[1][:-1]\n",
    "            fasta_dict[header] = \"\"\n",
    "        else:\n",
    "            fasta_dict[header] += line.strip()\n",
    "    # create a dataframe from the dictionary\n",
    "    df = pd.DataFrame.from_dict(fasta_dict, orient=\"index\")\n",
    "    # rename the columns\n",
    "    df.columns = [\"sequence\"]\n",
    "    # reset the index\n",
    "    df.reset_index(inplace=True)\n",
    "    # rename the columns\n",
    "    df.rename(columns={\"index\": \"header\"}, inplace=True)\n",
    "    # add a column with the directory name\n",
    "    df[\"dir\"] = dir\n",
    "    name_split = name.split(\"_\")\n",
    "    df[\"specie\"] = name_split[2]\n",
    "    df[\"strain\"] = name_split[3]\n",
    "\n",
    "    df.to_csv(f\"../all_csv/positive/{name}.csv\", columns=None, index=None)                               # Change me"
   ]
  },
  {
   "cell_type": "code",
   "execution_count": null,
   "metadata": {},
   "outputs": [],
   "source": []
  }
 ],
 "metadata": {
  "kernelspec": {
   "display_name": "base",
   "language": "python",
   "name": "python3"
  },
  "language_info": {
   "codemirror_mode": {
    "name": "ipython",
    "version": 3
   },
   "file_extension": ".py",
   "mimetype": "text/x-python",
   "name": "python",
   "nbconvert_exporter": "python",
   "pygments_lexer": "ipython3",
   "version": "3.9.13"
  },
  "orig_nbformat": 4
 },
 "nbformat": 4,
 "nbformat_minor": 2
}
